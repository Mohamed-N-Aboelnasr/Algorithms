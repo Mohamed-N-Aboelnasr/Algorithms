{
 "cells": [
  {
   "cell_type": "markdown",
   "metadata": {},
   "source": [
    "<center>\n",
    "    <h1>Mohamed Nasser Aboelnasr</h1>\n",
    "</center>"
   ]
  },
  {
   "cell_type": "markdown",
   "metadata": {},
   "source": [
    "# Binary Search"
   ]
  },
  {
   "cell_type": "code",
   "execution_count": 1,
   "metadata": {},
   "outputs": [
    {
     "name": "stdout",
     "output_type": "stream",
     "text": [
      "2 0 -1 0 -1 "
     ]
    }
   ],
   "source": [
    "def binarySearch(l,num):\n",
    "    for i in num:\n",
    "        mid=len(l)//2\n",
    "        start=0\n",
    "        end=len(l)-1\n",
    "        c=0\n",
    "        while start<=end:\n",
    "            if i==l[mid]:\n",
    "                print(mid,end=' ')\n",
    "                c=1\n",
    "                break\n",
    "            elif i<l[mid]:\n",
    "                end=mid-1\n",
    "                mid=(start+end)//2\n",
    "            else:\n",
    "                start=mid+1\n",
    "                mid=(start+end)//2\n",
    "        if c==0:\n",
    "            print(-1,end=' ')\n",
    "list=[1,5,8,12,13]\n",
    "numbers=[8,1,23,1,11]\n",
    "binarySearch(list,numbers)"
   ]
  },
  {
   "cell_type": "markdown",
   "metadata": {},
   "source": [
    "# Merge Sort"
   ]
  },
  {
   "cell_type": "code",
   "execution_count": 2,
   "metadata": {},
   "outputs": [
    {
     "name": "stdout",
     "output_type": "stream",
     "text": [
      "[3, 9, 10, 27, 38, 43, 82]\n"
     ]
    }
   ],
   "source": [
    "def merging(left,right,list):\n",
    "    i=0;j=0;k=0\n",
    "    while i<len(left) and j<len(right):\n",
    "        if left[i]<=right[j]:\n",
    "            list[k]=left[i]\n",
    "            i+=1\n",
    "        else:\n",
    "            list[k]=right[j]\n",
    "            j+=1\n",
    "        k+=1\n",
    "    while i<len(left):\n",
    "        list[k]=left[i]\n",
    "        i+=1;\n",
    "        k+=1\n",
    "    while j<len(right):\n",
    "        list[k]=right[j]\n",
    "        j+=1\n",
    "        k+=1\n",
    "        \n",
    "def mergeSort(list):\n",
    "    if len(list)<2:\n",
    "        return\n",
    "    mid=len(list)//2\n",
    "    left=list[:mid]\n",
    "    right=list[mid:]\n",
    "    mergeSort(left)\n",
    "    mergeSort(right)\n",
    "    merging(left,right,list)\n",
    "\n",
    "l=[38,27,43,3,9,82,10]\n",
    "mergeSort(l)\n",
    "print(l)\n",
    "    "
   ]
  },
  {
   "cell_type": "markdown",
   "metadata": {},
   "source": [
    "# quick Sort"
   ]
  },
  {
   "cell_type": "code",
   "execution_count": 3,
   "metadata": {},
   "outputs": [
    {
     "name": "stdout",
     "output_type": "stream",
     "text": [
      "[-3, 2, 5, 6, 9, 8, -6, 1, 3]\n"
     ]
    }
   ],
   "source": [
    "def partitioning(list,start,end):\n",
    "    pivot=list[end]\n",
    "    pIndex=start\n",
    "    for i in range(start,end):\n",
    "        if list[i]<=pivot:\n",
    "            list[pIndex],list[i]=list[i],list[pIndex]\n",
    "            pIndex+=1\n",
    "    list[pIndex],list[end]=list[end],list[pIndex]\n",
    "    return pIndex\n",
    "\n",
    "def quickSort(list,start=0,end=len(list)-1):\n",
    "    if start<end:\n",
    "        pIndex=partitioning(list,start,end)\n",
    "        quickSort(list,start,pIndex-1)\n",
    "        quickSort(list,pIndex+1,end)\n",
    "\n",
    "list=[9,-3,5,2,6,8,-6,1,3]\n",
    "quickSort(list)\n",
    "print(list)\n",
    "    "
   ]
  },
  {
   "cell_type": "markdown",
   "metadata": {},
   "source": [
    "## randomized quick sort"
   ]
  },
  {
   "cell_type": "markdown",
   "metadata": {},
   "source": [
    "we can use random function to select pivot index randomly to avoid the worst case of time complexity \n",
    "which is O(n^2) and turn it to O(nlogn)"
   ]
  },
  {
   "cell_type": "code",
   "execution_count": 4,
   "metadata": {},
   "outputs": [
    {
     "name": "stdout",
     "output_type": "stream",
     "text": [
      "[-6, -3, 1, 2, 3, 5, 6, 8, 9]\n"
     ]
    }
   ],
   "source": [
    "import random\n",
    "\n",
    "def randomPartitioning(list,start,end):\n",
    "    pivotIndex=random.randrange(start,end+1)\n",
    "    list[pivotIndex],list[end]=list[end],list[pivotIndex]\n",
    "    return partitioning(list,start,end)\n",
    "\n",
    "def randomizedQuickSort(list,start=0,end=len(list)-1):\n",
    "    if start<end:\n",
    "        pIndex=randomPartitioning(list,start,end)\n",
    "        randomizedQuickSort(list,start,pIndex-1)\n",
    "        randomizedQuickSort(list,pIndex+1,end)\n",
    "        \n",
    "list2=[9,-3,5,2,6,8,-6,1,3]       \n",
    "randomizedQuickSort(list2)\n",
    "print(list2)"
   ]
  },
  {
   "cell_type": "markdown",
   "metadata": {},
   "source": [
    "# Fast Exponentiation"
   ]
  },
  {
   "cell_type": "code",
   "execution_count": 5,
   "metadata": {},
   "outputs": [
    {
     "name": "stdout",
     "output_type": "stream",
     "text": [
      "536\n"
     ]
    }
   ],
   "source": [
    "def fastPower(base,exponent):\n",
    "    if exponent==0:\n",
    "        return 1\n",
    "    result=fastPower(base,exponent//2)\n",
    "    result*=result\n",
    "    if (exponent%2)!=0:\n",
    "        result*=base\n",
    "    return result\n",
    "\n",
    "base=3;exponent=50;mod=1007\n",
    "result=fastPower(base,exponent)%mod\n",
    "print(result)\n",
    "# Time complexity is O(logn)  "
   ]
  },
  {
   "cell_type": "markdown",
   "metadata": {},
   "source": [
    "# Points and Segments"
   ]
  },
  {
   "cell_type": "code",
   "execution_count": 6,
   "metadata": {},
   "outputs": [
    {
     "name": "stdout",
     "output_type": "stream",
     "text": [
      "enter no of segments:3\n",
      "enter no of points:2\n",
      "enter the start:0\n",
      "enter the end5\n",
      "enter the start:-3\n",
      "enter the end2\n",
      "enter the start:7\n",
      "enter the end10\n",
      "enter the point:1\n",
      "enter the point:6\n",
      "2 0\n"
     ]
    }
   ],
   "source": [
    "s=int(input(\"enter no of segments:\"))\n",
    "p=int(input(\"enter no of points:\"))\n",
    "segments=[]\n",
    "for i in range(s):\n",
    "    start=int(input(\"enter the start:\"))\n",
    "    end=int(input(\"enter the end\"))\n",
    "    segments.append([start,end])\n",
    "points=[]\n",
    "for i in range(p):\n",
    "    num=int(input(\"enter the point:\"))\n",
    "    points.append(num)\n",
    "opens=[]\n",
    "closes=[]\n",
    "for segment in segments:\n",
    "    opens.append(segment[0])\n",
    "    closes.append(segment[1])\n",
    "points.sort()\n",
    "opens.sort()\n",
    "closes.sort()\n",
    "length=len(segments)\n",
    "counter=0\n",
    "iopen=0\n",
    "iclose=0\n",
    "results=[]\n",
    "for point in points:\n",
    "    while iopen<length and opens[iopen]<=point:\n",
    "        iopen+=1\n",
    "        counter+=1\n",
    "    while iclose<length and closes[iclose]<point:\n",
    "        iclose+=1\n",
    "        counter-=1\n",
    "    results.append(counter)\n",
    "print(*results)"
   ]
  },
  {
   "cell_type": "markdown",
   "metadata": {},
   "source": [
    "# Majority Element"
   ]
  },
  {
   "cell_type": "code",
   "execution_count": 17,
   "metadata": {},
   "outputs": [
    {
     "name": "stdout",
     "output_type": "stream",
     "text": [
      "enter the size of list: 4\n",
      "enter element no 1 1\n",
      "enter element no 2 2\n",
      "enter element no 3 3\n",
      "enter element no 4 1\n",
      "0\n"
     ]
    }
   ],
   "source": [
    "def majorityElem(list):\n",
    "    count=0; majElem=None\n",
    "    for i in range(len(list)):\n",
    "        if count==0:\n",
    "            majElem=list[i]\n",
    "        if majElem==list[i]:\n",
    "            count+=1\n",
    "        else:\n",
    "            count-=1\n",
    "    count=0\n",
    "    for i in range(len(list)):\n",
    "        if majElem==list[i]:\n",
    "            count+=1\n",
    "    if count>len(list)//2:\n",
    "        return 1\n",
    "    else:\n",
    "        return 0\n",
    "\n",
    "size=int(input('enter the size of list: '))\n",
    "list=[]\n",
    "for i in range(size):\n",
    "    list.append(int(input('enter element no {} '.format(i+1))))\n",
    "    \n",
    "print(majorityElem(list))\n",
    "        \n",
    "        "
   ]
  },
  {
   "cell_type": "markdown",
   "metadata": {},
   "source": [
    "---"
   ]
  },
  {
   "cell_type": "markdown",
   "metadata": {},
   "source": [
    "## `Extra Work`"
   ]
  },
  {
   "cell_type": "markdown",
   "metadata": {},
   "source": [
    "# Insertion sort"
   ]
  },
  {
   "cell_type": "code",
   "execution_count": 18,
   "metadata": {},
   "outputs": [],
   "source": [
    "def insertionSort(A):\n",
    " \n",
    "    for i in range(1, len(A)):\n",
    "        value = A[i]\n",
    "        j = i\n",
    "        \n",
    "        while j > 0 and A[j - 1] > value:\n",
    "            A[j] = A[j - 1]\n",
    "            j = j - 1\n",
    " \n",
    "        A[j] = value"
   ]
  },
  {
   "cell_type": "code",
   "execution_count": 19,
   "metadata": {},
   "outputs": [
    {
     "name": "stdout",
     "output_type": "stream",
     "text": [
      "[-2, 1, 3, 4, 5, 8, 9]\n"
     ]
    }
   ],
   "source": [
    "A = [3, 8, 5, 4, 1, 9, -2]\n",
    "insertionSort(A)\n",
    "print(A)"
   ]
  },
  {
   "cell_type": "markdown",
   "metadata": {},
   "source": [
    "# Insertion Sort Recursion"
   ]
  },
  {
   "cell_type": "code",
   "execution_count": 20,
   "metadata": {},
   "outputs": [],
   "source": [
    "def insertionSort(A, i, n):\n",
    " \n",
    "    value = A[i]\n",
    "    j = i\n",
    "\n",
    "    while j > 0 and A[j - 1] > value:\n",
    "        A[j] = A[j - 1]\n",
    "        j = j - 1\n",
    " \n",
    "    A[j] = value\n",
    "    if i + 1 <= n:\n",
    "        insertionSort(A, i + 1, n)    "
   ]
  },
  {
   "cell_type": "code",
   "execution_count": 21,
   "metadata": {},
   "outputs": [
    {
     "name": "stdout",
     "output_type": "stream",
     "text": [
      "[-2, 1, 3, 4, 5, 8, 9]\n"
     ]
    }
   ],
   "source": [
    "A = [3, 8, 5, 4, 1, 9, -2]\n",
    "insertionSort(A, 1, len(A) - 1)\n",
    "print(A)"
   ]
  },
  {
   "cell_type": "markdown",
   "metadata": {},
   "source": [
    "# Bubble sort"
   ]
  },
  {
   "cell_type": "code",
   "execution_count": 22,
   "metadata": {},
   "outputs": [],
   "source": [
    "def swap(A, i, j):\n",
    " \n",
    "    temp = A[i]\n",
    "    A[i] = A[j]\n",
    "    A[j] = temp\n",
    " \n",
    " \n",
    "def bubbleSort(A):\n",
    " \n",
    "    for k in range(len(A) - 1):\n",
    "        for i in range(len(A) - 1 - k):\n",
    "            if A[i] > A[i + 1]:\n",
    "                swap(A, i, i + 1)     "
   ]
  },
  {
   "cell_type": "code",
   "execution_count": 23,
   "metadata": {},
   "outputs": [
    {
     "name": "stdout",
     "output_type": "stream",
     "text": [
      "[-2, 1, 3, 4, 5, 8, 9]\n"
     ]
    }
   ],
   "source": [
    "A = [3, 5, 8, 4, 1, 9, -2]\n",
    "bubbleSort(A)\n",
    "print(A)"
   ]
  },
  {
   "cell_type": "markdown",
   "metadata": {},
   "source": [
    "# Bubble Sort Recursion"
   ]
  },
  {
   "cell_type": "code",
   "execution_count": 24,
   "metadata": {},
   "outputs": [],
   "source": [
    "def swap(A, i, j):\n",
    " \n",
    "    temp = A[i]\n",
    "    A[i] = A[j]\n",
    "    A[j] = temp\n",
    " \n",
    " \n",
    "def bubbleSort(A, n):\n",
    " \n",
    "    for i in range(n - 1):\n",
    "        if A[i] > A[i + 1]:\n",
    "            swap(A, i, i + 1)\n",
    " \n",
    "    if n - 1 > 1:\n",
    "        bubbleSort(A, n - 1)    "
   ]
  },
  {
   "cell_type": "code",
   "execution_count": 25,
   "metadata": {},
   "outputs": [
    {
     "name": "stdout",
     "output_type": "stream",
     "text": [
      "[-2, 1, 3, 4, 5, 8, 9]\n"
     ]
    }
   ],
   "source": [
    "A = [ 3, 5, 8, 4, 1, 9, -2 ]\n",
    "bubbleSort(A, len(A))\n",
    "print(A)"
   ]
  },
  {
   "cell_type": "markdown",
   "metadata": {},
   "source": [
    "The `worst-case` time complexity of bubble sort is `O(n^2)`, where n is the size of the input. The `worst-case` happens when the array is reverse sorted. The `best-case` time complexity of bubble sort is `O(n)`. \n",
    "The best case happens when the array is already sorted, and the algorithm is modified to stop running when the inner loop didn’t do any swap. "
   ]
  },
  {
   "cell_type": "code",
   "execution_count": null,
   "metadata": {},
   "outputs": [],
   "source": []
  }
 ],
 "metadata": {
  "kernelspec": {
   "display_name": "Python 3",
   "language": "python",
   "name": "python3"
  },
  "language_info": {
   "codemirror_mode": {
    "name": "ipython",
    "version": 3
   },
   "file_extension": ".py",
   "mimetype": "text/x-python",
   "name": "python",
   "nbconvert_exporter": "python",
   "pygments_lexer": "ipython3",
   "version": "3.8.8"
  }
 },
 "nbformat": 4,
 "nbformat_minor": 4
}
