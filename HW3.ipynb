{
 "cells": [
  {
   "cell_type": "markdown",
   "metadata": {},
   "source": [
    "<center>\n",
    "    <h1>Mohamed Nasser Aboelnasr</h1>\n",
    "</center>"
   ]
  },
  {
   "cell_type": "markdown",
   "metadata": {},
   "source": [
    "# `Divide and Conquer`"
   ]
  },
  {
   "cell_type": "markdown",
   "metadata": {},
   "source": [
    "# Karatsuba algorithm for fast multiplication"
   ]
  },
  {
   "cell_type": "code",
   "execution_count": 1,
   "metadata": {},
   "outputs": [],
   "source": [
    "def karatsuba(x,y):\n",
    "    \n",
    "    if len(str(x)) == 1 or len(str(y)) == 1:\n",
    "        return x*y\n",
    "    n = max(len(str(x)), len(str(y)))\n",
    "    m = n//2 \n",
    "    a = x//(10**m)\n",
    "    b = x%(10**m)\n",
    "    c = y//(10**m)\n",
    "    d = y%(10**m)\n",
    "    \n",
    "    ac = karatsuba(a,c)\n",
    "    bd = karatsuba(b,d)\n",
    "    ad_plus_bc = karatsuba(a,d)+karatsuba(b,c)\n",
    "    result = ac*(10**(2*m)) + ad_plus_bc*(10**m) + bd\n",
    "    return result"
   ]
  },
  {
   "cell_type": "code",
   "execution_count": 2,
   "metadata": {},
   "outputs": [
    {
     "data": {
      "text/plain": [
       "9114896"
      ]
     },
     "execution_count": 2,
     "metadata": {},
     "output_type": "execute_result"
    }
   ],
   "source": [
    "x=5432\n",
    "y=1678\n",
    "karatsuba(x, y)"
   ]
  },
  {
   "cell_type": "markdown",
   "metadata": {},
   "source": [
    "# `Greedy Algorithm`"
   ]
  },
  {
   "cell_type": "markdown",
   "metadata": {},
   "source": [
    "# Fractional Knapsack Problem "
   ]
  },
  {
   "cell_type": "code",
   "execution_count": 3,
   "metadata": {},
   "outputs": [
    {
     "data": {
      "text/plain": [
       "240.0"
      ]
     },
     "execution_count": 3,
     "metadata": {},
     "output_type": "execute_result"
    }
   ],
   "source": [
    "# we can represent value & weight pair as a dictionary or list of list and here i use them as dictionary\n",
    "def fractKnapsak(value_weight, max_weight):\n",
    "    temp={}\n",
    "    for value,weight in value_weight.items():\n",
    "        temp[weight]=value/weight\n",
    "    dic=sorted(temp.items(),key=lambda x:x[1],reverse=True)\n",
    "    total_profit=0\n",
    "    for weight,ratio in dic:\n",
    "        if weight<max_weight:\n",
    "            total_profit+=weight*ratio\n",
    "            max_weight-=weight\n",
    "        else:\n",
    "            total_profit+=max_weight*ratio\n",
    "            max_weight=0\n",
    "        if max_weight==0:\n",
    "            break\n",
    "    return total_profit\n",
    "\n",
    "val_w_pair={60:10,100:20,120:30}\n",
    "max_weight=50\n",
    "fractKnapsak(val_w_pair,max_weight)\n",
    "        \n",
    "        \n",
    "    "
   ]
  },
  {
   "cell_type": "markdown",
   "metadata": {},
   "source": [
    "# `Dynamic Programming`\n"
   ]
  },
  {
   "cell_type": "markdown",
   "metadata": {},
   "source": [
    "# Money Change Problem"
   ]
  },
  {
   "cell_type": "code",
   "execution_count": 4,
   "metadata": {},
   "outputs": [],
   "source": [
    "import math\n",
    "\n",
    "def leastCoins(coins, amount):\n",
    "    \n",
    "    if amount < 1:\n",
    "        return 0\n",
    "\n",
    "    return coin_change(coins, amount, [0] * (amount + 1))\n",
    "\n",
    "def coin_change(coins, remainder, cache):\n",
    "\n",
    "    if remainder < 0:\n",
    "        return -1\n",
    "\n",
    "    if remainder == 0:\n",
    "        return 0\n",
    "\n",
    "    if cache[remainder] != 0:\n",
    "        return cache[remainder]\n",
    "\n",
    "    minimum = math.inf\n",
    "    for coin in coins:\n",
    "        change_result = coin_change(coins, remainder - coin, cache)\n",
    "        if (change_result >= 0 and change_result < minimum):\n",
    "            minimum = 1 + change_result\n",
    "\n",
    "    cache[remainder] = -1 if (minimum == math.inf) else minimum\n",
    "\n",
    "    return cache[remainder]\n"
   ]
  },
  {
   "cell_type": "code",
   "execution_count": 5,
   "metadata": {},
   "outputs": [
    {
     "name": "stdout",
     "output_type": "stream",
     "text": [
      "10\n",
      "4\n",
      "-1\n"
     ]
    }
   ],
   "source": [
    "trial1 = leastCoins([1,3,5,6,9],90)\n",
    "trial2 = leastCoins([2,3,5],14)\n",
    "trial3 = leastCoins([2],5)\n",
    "print(trial1)\n",
    "print(trial2)\n",
    "print(trial3)"
   ]
  },
  {
   "cell_type": "markdown",
   "metadata": {},
   "source": [
    "# Edit Distance"
   ]
  },
  {
   "cell_type": "code",
   "execution_count": 6,
   "metadata": {},
   "outputs": [],
   "source": [
    "import numpy as np\n",
    "def editDistance(x, y):\n",
    "    x_dim = len(x)+1   \n",
    "    y_dim = len(y)+1   \n",
    "    min_distance = np.zeros((y_dim, x_dim))\n",
    "    \n",
    "    for i in range(1, len(x)+1):\n",
    "        min_distance[0, i] = i\n",
    "    for i in range(1, len(y)+1):\n",
    "        min_distance[i, 0] = i\n",
    "    \n",
    "    for i in range(1, len(x)+1):\n",
    "        for j in range(1, len(y)+1):\n",
    "            if x[i-1] == y[j-1]:\n",
    "                min_distance[j, i] = min_distance[j-1, i-1]\n",
    "            else:\n",
    "                min_distance[j, i] = min(min_distance[j-1, i-1], min_distance[j, i-1], min_distance[j-1, i]) + 1\n",
    "    \n",
    "    return min_distance[y_dim-1, x_dim-1]"
   ]
  },
  {
   "cell_type": "code",
   "execution_count": 7,
   "metadata": {},
   "outputs": [
    {
     "name": "stdout",
     "output_type": "stream",
     "text": [
      "3.0\n"
     ]
    }
   ],
   "source": [
    "edit_distance = editDistance('short', 'ports')\n",
    "print(edit_distance)"
   ]
  },
  {
   "cell_type": "markdown",
   "metadata": {},
   "source": [
    "# Longest Common Subsequence-Dynamic Programming (Top-Down approach / Memoization)"
   ]
  },
  {
   "cell_type": "code",
   "execution_count": 8,
   "metadata": {},
   "outputs": [
    {
     "name": "stdout",
     "output_type": "stream",
     "text": [
      "B C B A\n",
      "B C A B\n",
      "B D A B\n"
     ]
    }
   ],
   "source": [
    "def lcs(s1,s2):\n",
    "    i=len(s1)+1\n",
    "    j=len(s2)+1\n",
    "    lcs_arr=[[0 for x in range(i)] for y in range(j)]\n",
    "    for y in range(1,j):\n",
    "        for x in range(1,i):\n",
    "            if s1[x-1]==s2[y-1]:\n",
    "                lcs_arr[y][x]=1+lcs_arr[y-1][x-1]\n",
    "            else:\n",
    "                lcs_arr[y][x]=max(lcs_arr[y-1][x],lcs_arr[y][x-1])\n",
    "    return lcs_arr[j-1][i-1],lcs_arr\n",
    "\n",
    "def printlcs(s1,s2,l,dptable):\n",
    "    flag=\"\"\n",
    "    while True:\n",
    "        i=len(s1)\n",
    "        j=len(s2)\n",
    "        k=l\n",
    "        long_subseq=[\"\"]*l\n",
    "        while k>0:\n",
    "            if s1[i-1]==s2[j-1]:\n",
    "                long_subseq[k-1]=s1[i-1]\n",
    "                k-=1;i-=1;j-=1\n",
    "            elif dptable[j-1][i]==dptable[j][i-1]:\n",
    "                i-=1\n",
    "                dptable[j][i]-=1\n",
    "            elif dptable[j-1][i]>dptable[j][i-1]:\n",
    "                j-=1\n",
    "            else:\n",
    "                i-=1\n",
    "            if i==0 or j==0:\n",
    "                break\n",
    "        if long_subseq==flag:\n",
    "            break\n",
    "        else:\n",
    "            print(*long_subseq)\n",
    "        flag=long_subseq\n",
    "            \n",
    "s1=\"ABCBDAB\"\n",
    "s2=\"BDCABA\"\n",
    "lcs_len,dptable=lcs(s1,s2)\n",
    "printlcs(s1,s2,lcs_len,dptable)\n"
   ]
  },
  {
   "cell_type": "markdown",
   "metadata": {},
   "source": [
    "# Longest Common Subsequence-Brute force (Recursion approach-Backward)"
   ]
  },
  {
   "cell_type": "code",
   "execution_count": 9,
   "metadata": {},
   "outputs": [
    {
     "data": {
      "text/plain": [
       "4"
      ]
     },
     "execution_count": 9,
     "metadata": {},
     "output_type": "execute_result"
    }
   ],
   "source": [
    "def lcs(s1,s2,i,j):\n",
    "    if i<0 or j<0:\n",
    "        return 0\n",
    "    elif s1[i]==s2[j]:\n",
    "        return 1+lcs(s1,s2,i-1,j-1)\n",
    "    else:\n",
    "        return max(lcs(s1,s2,i,j-1),lcs(s1,s2,i-1,j))\n",
    "s1=\"ABCBDAB\"\n",
    "s2=\"BDCABA\"\n",
    "i=len(s1)-1\n",
    "j=len(s2)-1\n",
    "lcs(s1,s2,i,j)"
   ]
  },
  {
   "cell_type": "markdown",
   "metadata": {},
   "source": [
    "# Longest Common Subsequence-Brute force (Recursion approach-Forward)"
   ]
  },
  {
   "cell_type": "code",
   "execution_count": 10,
   "metadata": {},
   "outputs": [
    {
     "data": {
      "text/plain": [
       "4"
      ]
     },
     "execution_count": 10,
     "metadata": {},
     "output_type": "execute_result"
    }
   ],
   "source": [
    "def lcs(s1,s2,i,j):\n",
    "    if i==len(s1) or j==len(s2):\n",
    "        return 0\n",
    "    elif s1[i]==s2[j]:\n",
    "        return 1+lcs(s1,s2,i+1,j+1)\n",
    "    else:\n",
    "        return max(lcs(s1,s2,i,j+1),lcs(s1,s2,i+1,j))\n",
    "s1=\"ABCBDAB\"\n",
    "s2=\"BDCABA\"\n",
    "lcs(s1,s2,0,0)"
   ]
  },
  {
   "cell_type": "markdown",
   "metadata": {},
   "source": [
    "# Longest Common Subsequence-Dynamic Programming (Bottom-up approach / Tabulation)"
   ]
  },
  {
   "cell_type": "code",
   "execution_count": 11,
   "metadata": {},
   "outputs": [
    {
     "name": "stdout",
     "output_type": "stream",
     "text": [
      "B C B A\n"
     ]
    }
   ],
   "source": [
    "def lcs(s1,s2,i,j,arr):\n",
    "    if i<0 or j<0:\n",
    "        return 0\n",
    "    if arr[j][i]!=0:\n",
    "        return arr[i][j]\n",
    "    else:\n",
    "        if s1[i]==s2[j]:\n",
    "            arr[j][i]=1+lcs(s1,s2,i-1,j-1,arr)\n",
    "        else:\n",
    "            arr[j][i]=max(lcs(s1,s2,i-1,j,arr),lcs(s1,s2,i,j-1,arr))\n",
    "        return arr[j][i]\n",
    "\n",
    "def printlcs(s1,s2,l,dptable):\n",
    "    flag=\"\"\n",
    "    while True:\n",
    "        i=len(s1)-1\n",
    "        j=len(s2)-1\n",
    "        k=l\n",
    "        long_subseq=[\"\"]*l\n",
    "        while k>0:\n",
    "            if s1[i]==s2[j]:\n",
    "                long_subseq[k-1]=s1[i]\n",
    "                k-=1;i-=1;j-=1\n",
    "            elif dptable[j-1][i]==dptable[j][i-1]:\n",
    "                i-=1\n",
    "                dptable[j][i]-=1\n",
    "            elif dptable[j-1][i]>dptable[j][i-1]:\n",
    "                j-=1\n",
    "            else:\n",
    "                i-=1\n",
    "            if i<0 or j<0:\n",
    "                break\n",
    "        if long_subseq==flag:\n",
    "            break\n",
    "        else:\n",
    "            print(*long_subseq)\n",
    "        flag=long_subseq\n",
    "\n",
    "s1=\"ABCBDAB\"\n",
    "s2=\"BDCABA\"\n",
    "i=len(s1)\n",
    "j=len(s2)\n",
    "dptable=[[0 for x in range(i)] for y in range(j)]\n",
    "lcs(s1,s2,i-1,j-1,dptable)\n",
    "lcs_len=dptable[j-1][i-1]\n",
    "printlcs(s1,s2,lcs_len,dptable)"
   ]
  },
  {
   "cell_type": "markdown",
   "metadata": {},
   "source": [
    "# 0-1 Knapsack Problem - Dynamic Programming (Bottom-up / Tabulation approach)"
   ]
  },
  {
   "cell_type": "code",
   "execution_count": 12,
   "metadata": {},
   "outputs": [
    {
     "data": {
      "text/plain": [
       "220"
      ]
     },
     "execution_count": 12,
     "metadata": {},
     "output_type": "execute_result"
    }
   ],
   "source": [
    "def knapsack(values,weights,max_weight):\n",
    "    dp_table=[[0 for i in range(max_weight+1)] for j in range(len(values)+1)]\n",
    "    for total_items in range(len(values)+1):\n",
    "        for mx_weight in range(max_weight+1):\n",
    "            current_item=total_items-1\n",
    "            if total_items==0 or mx_weight==0:\n",
    "                dp_table[total_items][mx_weight]=0\n",
    "            elif weights[current_item]>mx_weight:\n",
    "                dp_table[total_items][mx_weight]=dp_table[total_items-1][mx_weight]\n",
    "            else:\n",
    "                take_item=values[current_item]+dp_table[total_items-1][mx_weight-weights[current_item]]\n",
    "                notTake_item=dp_table[total_items-1][mx_weight]\n",
    "                dp_table[total_items][mx_weight]=max(take_item,notTake_item)\n",
    "    return dp_table[len(values)][max_weight]\n",
    "val = [60, 100, 120]\n",
    "wt = [10, 20, 30]\n",
    "W = 50\n",
    "knapsack(val,wt,W)"
   ]
  },
  {
   "cell_type": "code",
   "execution_count": null,
   "metadata": {},
   "outputs": [],
   "source": []
  }
 ],
 "metadata": {
  "kernelspec": {
   "display_name": "Python 3",
   "language": "python",
   "name": "python3"
  },
  "language_info": {
   "codemirror_mode": {
    "name": "ipython",
    "version": 3
   },
   "file_extension": ".py",
   "mimetype": "text/x-python",
   "name": "python",
   "nbconvert_exporter": "python",
   "pygments_lexer": "ipython3",
   "version": "3.8.8"
  }
 },
 "nbformat": 4,
 "nbformat_minor": 4
}
