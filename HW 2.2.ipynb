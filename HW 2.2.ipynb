{
 "cells": [
  {
   "cell_type": "markdown",
   "metadata": {},
   "source": [
    "<center>\n",
    "    <h1>Mohamed Nasser Aboelnasr</h1>\n",
    "</center>"
   ]
  },
  {
   "cell_type": "markdown",
   "metadata": {},
   "source": [
    "# Scheduling problem"
   ]
  },
  {
   "cell_type": "code",
   "execution_count": 5,
   "metadata": {},
   "outputs": [],
   "source": [
    "def maxThings(list,Time):\n",
    "    list.sort()\n",
    "    noThings=0\n",
    "    count=0\n",
    "    for i in list:\n",
    "        count+=i\n",
    "        if count>Time:\n",
    "            break\n",
    "        noThings+=1\n",
    "    return noThings"
   ]
  },
  {
   "cell_type": "code",
   "execution_count": 6,
   "metadata": {},
   "outputs": [
    {
     "name": "stdout",
     "output_type": "stream",
     "text": [
      "3\n"
     ]
    }
   ],
   "source": [
    "A=[5,3,4,2,1]\n",
    "T=6\n",
    "print(maxThings(A,T))"
   ]
  },
  {
   "cell_type": "markdown",
   "metadata": {},
   "source": [
    "# Activity Selection Problem"
   ]
  },
  {
   "cell_type": "code",
   "execution_count": 7,
   "metadata": {},
   "outputs": [],
   "source": [
    "def maxActivities(list):\n",
    "    length=len(list)\n",
    "    x=0\n",
    "    print(x,end=' ')\n",
    "    for y in range(length):\n",
    "        if list[y][0]>=list[x][1]:\n",
    "            print(y,end=' ')\n",
    "            x=y"
   ]
  },
  {
   "cell_type": "code",
   "execution_count": 8,
   "metadata": {},
   "outputs": [
    {
     "name": "stdout",
     "output_type": "stream",
     "text": [
      "0 2 "
     ]
    }
   ],
   "source": [
    "start=[10,12,20]\n",
    "finish=[20,25,30]\n",
    "activities=[]\n",
    "for i in range(len(start)):\n",
    "    activities.append([start[i],finish[i]])\n",
    "activities.sort(key=lambda x:x[1])\n",
    "maxActivities(activities)"
   ]
  },
  {
   "cell_type": "code",
   "execution_count": null,
   "metadata": {},
   "outputs": [],
   "source": []
  }
 ],
 "metadata": {
  "kernelspec": {
   "display_name": "Python 3",
   "language": "python",
   "name": "python3"
  },
  "language_info": {
   "codemirror_mode": {
    "name": "ipython",
    "version": 3
   },
   "file_extension": ".py",
   "mimetype": "text/x-python",
   "name": "python",
   "nbconvert_exporter": "python",
   "pygments_lexer": "ipython3",
   "version": "3.8.8"
  }
 },
 "nbformat": 4,
 "nbformat_minor": 4
}
